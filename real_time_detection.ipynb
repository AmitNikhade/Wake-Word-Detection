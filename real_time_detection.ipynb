{
  "nbformat": 4,
  "nbformat_minor": 0,
  "metadata": {
    "colab": {
      "name": "real-time-detection.ipynb",
      "version": "0.3.2",
      "provenance": [],
      "collapsed_sections": [],
      "toc_visible": true
    },
    "kernelspec": {
      "name": "python3",
      "display_name": "Python 3"
    }
  },
  "cells": [
    {
      "cell_type": "markdown",
      "metadata": {
        "id": "jJW1M1-yL6kV",
        "colab_type": "text"
      },
      "source": [
        "# Real Time Wake word Detection Script\n"
      ]
    },
    {
      "cell_type": "code",
      "metadata": {
        "id": "D-EhJJGuMaw2",
        "colab_type": "code",
        "colab": {
          "base_uri": "https://localhost:8080/",
          "height": 52
        },
        "outputId": "2ff247fe-2a0a-481c-f1a7-036344f11e72"
      },
      "source": [
        "!pip install pydub\n",
        "!pip install pyaudio\n",
        "# !apt install libasound2-dev portaudio19-dev libportaudio2 libportaudiocpp0 ffmpeg"
      ],
      "execution_count": 1,
      "outputs": [
        {
          "output_type": "stream",
          "text": [
            "Requirement already satisfied: pydub in /usr/local/lib/python3.6/dist-packages (0.23.1)\n",
            "Requirement already satisfied: pyaudio in /usr/local/lib/python3.6/dist-packages (0.2.11)\n"
          ],
          "name": "stdout"
        }
      ]
    },
    {
      "cell_type": "code",
      "metadata": {
        "id": "fp6kI_r7L4Pf",
        "colab_type": "code",
        "colab": {
          "base_uri": "https://localhost:8080/",
          "height": 35
        },
        "outputId": "4ac257a1-3cd0-4489-b858-937e4a25bfd8"
      },
      "source": [
        "from scipy.io import wavfile\n",
        "from pydub import AudioSegment\n",
        "import pyaudio\n",
        "\n",
        "import random\n",
        "import time\n",
        "import sys\n",
        "import os\n",
        "import IPython\n",
        "import numpy as np\n",
        "import matplotlib.pyplot as plt\n",
        "import matplotlib.mlab as mlab\n",
        "\n",
        "from keras.models import load_model\n",
        "\n",
        "from queue import Queue\n",
        "from threading import Thread"
      ],
      "execution_count": 2,
      "outputs": [
        {
          "output_type": "stream",
          "text": [
            "Using TensorFlow backend.\n"
          ],
          "name": "stderr"
        }
      ]
    },
    {
      "cell_type": "code",
      "metadata": {
        "id": "Sms5zs8FL4Lj",
        "colab_type": "code",
        "colab": {}
      },
      "source": [
        "# Parameters\n",
        "T_x = 5511\n",
        "T_y = 1375\n",
        "n_freq = 101\n",
        "\n",
        "fs = 44100\n",
        "chunk_duration = 0.5 # each read window\n",
        "feed_duration = 10   # the total input length\n",
        "chunk_samples = int(fs * chunk_duration)\n",
        "feed_samples = int(fs * feed_duration)"
      ],
      "execution_count": 0,
      "outputs": []
    },
    {
      "cell_type": "code",
      "metadata": {
        "id": "DQS8rguXL4IY",
        "colab_type": "code",
        "colab": {
          "base_uri": "https://localhost:8080/",
          "height": 469
        },
        "outputId": "f474ee07-cfbf-44cb-ac70-3a355897efbe"
      },
      "source": [
        "# Load model\n",
        "model = load_model(\"model.h5\")"
      ],
      "execution_count": 4,
      "outputs": [
        {
          "output_type": "stream",
          "text": [
            "WARNING: Logging before flag parsing goes to stderr.\n",
            "W0901 19:00:45.263215 140389171533696 deprecation_wrapper.py:119] From /usr/local/lib/python3.6/dist-packages/keras/backend/tensorflow_backend.py:541: The name tf.placeholder is deprecated. Please use tf.compat.v1.placeholder instead.\n",
            "\n",
            "W0901 19:00:45.286769 140389171533696 deprecation_wrapper.py:119] From /usr/local/lib/python3.6/dist-packages/keras/backend/tensorflow_backend.py:66: The name tf.get_default_graph is deprecated. Please use tf.compat.v1.get_default_graph instead.\n",
            "\n",
            "W0901 19:00:45.290008 140389171533696 deprecation_wrapper.py:119] From /usr/local/lib/python3.6/dist-packages/keras/backend/tensorflow_backend.py:4432: The name tf.random_uniform is deprecated. Please use tf.random.uniform instead.\n",
            "\n",
            "W0901 19:00:45.388967 140389171533696 deprecation_wrapper.py:119] From /usr/local/lib/python3.6/dist-packages/keras/backend/tensorflow_backend.py:148: The name tf.placeholder_with_default is deprecated. Please use tf.compat.v1.placeholder_with_default instead.\n",
            "\n",
            "W0901 19:00:45.417907 140389171533696 deprecation.py:506] From /usr/local/lib/python3.6/dist-packages/keras/backend/tensorflow_backend.py:3733: calling dropout (from tensorflow.python.ops.nn_ops) with keep_prob is deprecated and will be removed in a future version.\n",
            "Instructions for updating:\n",
            "Please use `rate` instead of `keep_prob`. Rate should be set to `rate = 1 - keep_prob`.\n",
            "W0901 19:00:45.422807 140389171533696 nn_ops.py:4224] Large dropout rate: 0.8 (>0.5). In TensorFlow 2.x, dropout() uses dropout rate instead of keep_prob. Please ensure that this is intended.\n",
            "W0901 19:00:45.799720 140389171533696 nn_ops.py:4224] Large dropout rate: 0.8 (>0.5). In TensorFlow 2.x, dropout() uses dropout rate instead of keep_prob. Please ensure that this is intended.\n",
            "W0901 19:00:46.109760 140389171533696 nn_ops.py:4224] Large dropout rate: 0.8 (>0.5). In TensorFlow 2.x, dropout() uses dropout rate instead of keep_prob. Please ensure that this is intended.\n",
            "W0901 19:00:46.216744 140389171533696 nn_ops.py:4224] Large dropout rate: 0.8 (>0.5). In TensorFlow 2.x, dropout() uses dropout rate instead of keep_prob. Please ensure that this is intended.\n",
            "W0901 19:00:46.293431 140389171533696 deprecation_wrapper.py:119] From /usr/local/lib/python3.6/dist-packages/keras/backend/tensorflow_backend.py:190: The name tf.get_default_session is deprecated. Please use tf.compat.v1.get_default_session instead.\n",
            "\n",
            "W0901 19:00:46.499429 140389171533696 deprecation_wrapper.py:119] From /usr/local/lib/python3.6/dist-packages/keras/optimizers.py:793: The name tf.train.Optimizer is deprecated. Please use tf.compat.v1.train.Optimizer instead.\n",
            "\n",
            "W0901 19:00:46.512057 140389171533696 deprecation.py:323] From /usr/local/lib/python3.6/dist-packages/tensorflow/python/ops/nn_impl.py:180: add_dispatch_support.<locals>.wrapper (from tensorflow.python.ops.array_ops) is deprecated and will be removed in a future version.\n",
            "Instructions for updating:\n",
            "Use tf.where in 2.0, which has the same broadcast rule as np.where\n",
            "/usr/local/lib/python3.6/dist-packages/keras/engine/saving.py:350: UserWarning: Error in loading the saved optimizer state. As a result, your model is starting with a freshly initialized optimizer.\n",
            "  warnings.warn('Error in loading the saved optimizer '\n"
          ],
          "name": "stderr"
        }
      ]
    },
    {
      "cell_type": "code",
      "metadata": {
        "id": "TE2CDqYYL4E1",
        "colab_type": "code",
        "colab": {}
      },
      "source": [
        "def detect_wake_word(x):\n",
        "\t\"\"\"\n",
        "\tPredict location of wake word\n",
        "\t\"\"\"\n",
        "\tx = x.swapaxes(0, 1)\n",
        "\tx = np.expand_dims(x, axis=0)\n",
        "\tpred = model.predict(x)\n",
        "\treturn pred.reshape(-1) # flatten\n",
        "\n",
        "def is_new_detection(pred, chunk_duration, feed_duration, threshold=0.5):\n",
        "\t\"\"\"\n",
        "\tDetects whether a new wake word has been detected in the chunk\n",
        "\t\"\"\"\n",
        "\tpred = pred > threshold\n",
        "\tchunk_pred_samples = int(len(pred) * chunk_duration / feed_duration)\n",
        "\tchunk_pred = pred[-chunk_pred_samples:]\n",
        "\tbaseline = chunk_pred[0]\n",
        "\tif pred in base:\n",
        "\t\tif pred > baseline:\n",
        "\t\t\treturn True\n",
        "\t\telse:\n",
        "\t\t\tbaseline = pred\n",
        "\treturn False\n",
        "\n",
        "def graph_spectrogram(audio_data):\n",
        "    \"\"\"\n",
        "    Plot and calculate spectrogram for audio data\n",
        "    \"\"\"\n",
        "    n_fft = 200 # window length (length of fast fourier transform)\n",
        "    fs = 8000 # number of samples per time (sample frequency)\n",
        "    n_overlap = 120 # overlap length of windows\n",
        "    n_channels = audio_data.ndim # number of dimensions\n",
        "    if n_channels == 1:\n",
        "        pxx, freqs, bins, im = plt.specgram(audio_data, n_fft, fs, noverlap = n_overlap)\n",
        "    elif n_channels == 2: # multi-channel audio\n",
        "        pxx, freqs, bins, im = plt.specgram(audio_data[:,0], n_fft, fs, noverlap = n_overlap)\n",
        "    return pxx\n",
        "\n",
        "\n",
        "def get_spectrogram(audio_data):\n",
        "    \"\"\"\n",
        "    Plot and calculate spectrogram for audio data\n",
        "    \"\"\"\n",
        "    n_fft = 200 # Length of each window segment\n",
        "    fs = 8000 # Sampling frequencies\n",
        "    n_overlap = 120 # Overlap between windows\n",
        "    n_channels = audio_data.ndim\n",
        "    if n_channels == 1:\n",
        "        pxx, _, _ = mlab.specgram(audio_data, n_fft, fs, noverlap = n_overlap)\n",
        "    elif n_channels == 2:\n",
        "        pxx, _, _ = mlab.specgram(audio_data[:,0], n_fft, fs, noverlap = n_overlap)\n",
        "    return pxx"
      ],
      "execution_count": 0,
      "outputs": []
    },
    {
      "cell_type": "code",
      "metadata": {
        "id": "9OsxB9Y0L4Aw",
        "colab_type": "code",
        "colab": {}
      },
      "source": [
        "que = Queue() # enables communication between audio callback and main thread\n",
        "run = True\n",
        "threshold = 100\n",
        "timeout = time.time() + 30 # half a minute\n",
        "data = np.zeros(feed_samples, dtype='int16') # data buffer for input"
      ],
      "execution_count": 0,
      "outputs": []
    },
    {
      "cell_type": "code",
      "metadata": {
        "id": "8XzExjSxL369",
        "colab_type": "code",
        "colab": {}
      },
      "source": [
        "def callback(in_data, frame_count, time_info, status):\n",
        "\tglobal run, timeout, data, threshold\n",
        "\tif time.time() > timeout:\n",
        "\t\trun = False\n",
        "\t# read new data from bufferand process it\n",
        "\tnew_data = np.frombuffer(in_data, dtype='int16')\n",
        "\tif np.abs(new_data).mean() < threshold:\n",
        "\t\t# sys.stdout.write('-')\n",
        "\t\tprint('-', end='')\n",
        "\t\treturn (in_data, pyaudio.paContinue)\n",
        "\telse:\n",
        "\t\t# sys.stdout.write('.')\n",
        "\t\tprint('.', end='')\n",
        "\t\t# add the new data if not silent\n",
        "\t\tnp.append(data, new_data)\n",
        "\t\tif len(data) > feed_samples:\n",
        "\t\t\tdata = data[-feed_samples:]\n",
        "\t\t\tque.put(data)\n",
        "\t\treturn (in_data, pyaudio.paContinue)"
      ],
      "execution_count": 0,
      "outputs": []
    },
    {
      "cell_type": "code",
      "metadata": {
        "id": "gHj0FBw2L3uv",
        "colab_type": "code",
        "colab": {}
      },
      "source": [
        "def stream(chunk_duration, feed_duration):\n",
        "\t# define and start stream\n",
        "\tstream = pyaudio.PyAudio().open(format=pyaudio.paInt16,\n",
        "\t\t\t\t\t\t\t\t\tchannels=1,\n",
        "\t\t\t\t\t\t\t\t\trate=fs,\n",
        "\t\t\t\t\t\t\t\t\tinput=True,\n",
        "\t\t\t\t\t\t\t\t\tframes_per_buffer=chunk_samples,\n",
        "\t\t\t\t\t\t\t\t\tinput_device_index=0,\n",
        "\t\t\t\t\t\t\t\t\tstream_callback=callback)\n",
        "\tstream.start_stream()\n",
        "\n",
        "\tglobal run, que\n",
        "\ttry:\n",
        "\t\twhile run:\n",
        "\t\t\tdata = que.get()\n",
        "\t\t\tspec = get_spectrogram(data)\n",
        "\t\t\tpreds = detect_wake_word(spec)\n",
        "\t\t\tnew_wake = is_new_detection(preds, chunk_duration, feed_duration)\n",
        "\t\t\tif new_wake:\n",
        "\t\t\t\tprint('1', end='')\n",
        "\t\t\t\t# sys.stdout.write('1')\n",
        "\texcept (KeyboardInterrupt, SystemExit):\n",
        "\t\tstream.stop_stream()\n",
        "\t\tstream.close()\n",
        "\t\ttimeout = time.time()\n",
        "\t\trun = False\n",
        "\n",
        "\tstream.stop_stream()\n",
        "\tstream.close()"
      ],
      "execution_count": 0,
      "outputs": []
    },
    {
      "cell_type": "code",
      "metadata": {
        "id": "lb1E1OVaLxsn",
        "colab_type": "code",
        "colab": {}
      },
      "source": [
        "# run audio pipeline\n",
        "stream(chunk_duration, feed_duration)"
      ],
      "execution_count": 0,
      "outputs": []
    },
    {
      "cell_type": "code",
      "metadata": {
        "id": "K4b5aFw9Mx0s",
        "colab_type": "code",
        "colab": {}
      },
      "source": [
        ""
      ],
      "execution_count": 0,
      "outputs": []
    }
  ]
}